{
 "cells": [
  {
   "cell_type": "code",
   "execution_count": 1,
   "metadata": {},
   "outputs": [],
   "source": [
    "import pandas as pd\n",
    "import numpy as np\n",
    "from sklearn.preprocessing import MinMaxScaler\n",
    "from sklearn.preprocessing import StandardScaler\n",
    "\n",
    "# plots\n",
    "import seaborn as sns\n",
    "import matplotlib.pyplot as plt\n",
    "\n",
    "#classifiers\n",
    "from sklearn.naive_bayes import MultinomialNB\n",
    "from sklearn.naive_bayes import GaussianNB\n",
    "\n",
    "#train test split\n",
    "from sklearn.model_selection import train_test_split\n",
    "from sklearn.metrics import accuracy_score, f1_score, precision_score, recall_score, classification_report, confusion_matrix\n",
    "from sklearn.model_selection import cross_val_score\n",
    "\n",
    "#feature selection\n",
    "from sklearn.feature_selection import SelectKBest, chi2 , f_classif , f_regression\n",
    "\n",
    "%matplotlib inline"
   ]
  },
  {
   "cell_type": "code",
   "execution_count": 2,
   "metadata": {},
   "outputs": [],
   "source": [
    "import csv\n",
    "\n",
    "with open('x_train_3_lab.txt', 'r') as in_file:\n",
    "    stripped = (line.strip() for line in in_file)\n",
    "    lines = (line.split(\",\") for line in stripped if line)\n",
    "    with open('x_train_3.csv', 'w',newline='') as out_file:\n",
    "        writer = csv.writer(out_file)\n",
    "        writer.writerow(('1', '2', '3', 'class'))\n",
    "        writer.writerows(lines)"
   ]
  },
  {
   "cell_type": "code",
   "execution_count": 3,
   "metadata": {},
   "outputs": [],
   "source": [
    "# import data\n",
    "dataset = pd.read_csv('x_train_3.csv')"
   ]
  },
  {
   "cell_type": "code",
   "execution_count": 4,
   "metadata": {},
   "outputs": [
    {
     "data": {
      "text/html": [
       "<div>\n",
       "<style scoped>\n",
       "    .dataframe tbody tr th:only-of-type {\n",
       "        vertical-align: middle;\n",
       "    }\n",
       "\n",
       "    .dataframe tbody tr th {\n",
       "        vertical-align: top;\n",
       "    }\n",
       "\n",
       "    .dataframe thead th {\n",
       "        text-align: right;\n",
       "    }\n",
       "</style>\n",
       "<table border=\"1\" class=\"dataframe\">\n",
       "  <thead>\n",
       "    <tr style=\"text-align: right;\">\n",
       "      <th></th>\n",
       "      <th>1</th>\n",
       "      <th>2</th>\n",
       "      <th>3</th>\n",
       "      <th>class</th>\n",
       "    </tr>\n",
       "  </thead>\n",
       "  <tbody>\n",
       "    <tr>\n",
       "      <th>0</th>\n",
       "      <td>18.270700</td>\n",
       "      <td>0.774875</td>\n",
       "      <td>-3.025317</td>\n",
       "      <td>2.0</td>\n",
       "    </tr>\n",
       "    <tr>\n",
       "      <th>1</th>\n",
       "      <td>12.396768</td>\n",
       "      <td>-18.871904</td>\n",
       "      <td>12.869293</td>\n",
       "      <td>8.0</td>\n",
       "    </tr>\n",
       "    <tr>\n",
       "      <th>2</th>\n",
       "      <td>9.052249</td>\n",
       "      <td>6.799930</td>\n",
       "      <td>-18.164120</td>\n",
       "      <td>1.0</td>\n",
       "    </tr>\n",
       "    <tr>\n",
       "      <th>3</th>\n",
       "      <td>18.870045</td>\n",
       "      <td>15.213517</td>\n",
       "      <td>-2.241253</td>\n",
       "      <td>0.0</td>\n",
       "    </tr>\n",
       "    <tr>\n",
       "      <th>4</th>\n",
       "      <td>4.382588</td>\n",
       "      <td>9.243156</td>\n",
       "      <td>-14.315777</td>\n",
       "      <td>1.0</td>\n",
       "    </tr>\n",
       "    <tr>\n",
       "      <th>5</th>\n",
       "      <td>0.213093</td>\n",
       "      <td>3.627029</td>\n",
       "      <td>-14.432624</td>\n",
       "      <td>1.0</td>\n",
       "    </tr>\n",
       "    <tr>\n",
       "      <th>6</th>\n",
       "      <td>-28.071377</td>\n",
       "      <td>2.110796</td>\n",
       "      <td>9.310006</td>\n",
       "      <td>6.0</td>\n",
       "    </tr>\n",
       "    <tr>\n",
       "      <th>7</th>\n",
       "      <td>-1.329998</td>\n",
       "      <td>13.889242</td>\n",
       "      <td>0.286538</td>\n",
       "      <td>6.0</td>\n",
       "    </tr>\n",
       "    <tr>\n",
       "      <th>8</th>\n",
       "      <td>-18.604052</td>\n",
       "      <td>-7.123417</td>\n",
       "      <td>-5.299009</td>\n",
       "      <td>2.0</td>\n",
       "    </tr>\n",
       "    <tr>\n",
       "      <th>9</th>\n",
       "      <td>0.797920</td>\n",
       "      <td>-19.306358</td>\n",
       "      <td>16.165659</td>\n",
       "      <td>4.0</td>\n",
       "    </tr>\n",
       "  </tbody>\n",
       "</table>\n",
       "</div>"
      ],
      "text/plain": [
       "           1          2          3  class\n",
       "0  18.270700   0.774875  -3.025317    2.0\n",
       "1  12.396768 -18.871904  12.869293    8.0\n",
       "2   9.052249   6.799930 -18.164120    1.0\n",
       "3  18.870045  15.213517  -2.241253    0.0\n",
       "4   4.382588   9.243156 -14.315777    1.0\n",
       "5   0.213093   3.627029 -14.432624    1.0\n",
       "6 -28.071377   2.110796   9.310006    6.0\n",
       "7  -1.329998  13.889242   0.286538    6.0\n",
       "8 -18.604052  -7.123417  -5.299009    2.0\n",
       "9   0.797920 -19.306358  16.165659    4.0"
      ]
     },
     "execution_count": 4,
     "metadata": {},
     "output_type": "execute_result"
    }
   ],
   "source": [
    "dataset.head(10)"
   ]
  },
  {
   "cell_type": "code",
   "execution_count": 5,
   "metadata": {},
   "outputs": [
    {
     "data": {
      "text/plain": [
       "5.0    2160\n",
       "4.0    2100\n",
       "8.0    2070\n",
       "1.0    1860\n",
       "0.0    1410\n",
       "3.0    1320\n",
       "6.0     780\n",
       "2.0     420\n",
       "9.0     300\n",
       "7.0     240\n",
       "Name: class, dtype: int64"
      ]
     },
     "execution_count": 5,
     "metadata": {},
     "output_type": "execute_result"
    }
   ],
   "source": [
    "dataset['class'].value_counts()"
   ]
  },
  {
   "cell_type": "code",
   "execution_count": 6,
   "metadata": {},
   "outputs": [],
   "source": [
    "np.random.seed(0) #use the same random sample each time"
   ]
  },
  {
   "cell_type": "code",
   "execution_count": 7,
   "metadata": {},
   "outputs": [],
   "source": [
    "class7_lenght = len(dataset[dataset['class']==7]) #take the lenght of the smallest class (class7)\n",
    "indices_class7 = dataset[dataset['class']==7].index #take the indices of the class7 images"
   ]
  },
  {
   "cell_type": "code",
   "execution_count": 8,
   "metadata": {},
   "outputs": [],
   "source": [
    "# random indices class 5\n",
    "indices_class5 = dataset[dataset['class']==5].index #take the indices of the class5 images\n",
    "random_class5_indices = np.random.choice(indices_class5,class7_lenght, replace=False) #take 240 random indices from class5"
   ]
  },
  {
   "cell_type": "code",
   "execution_count": 9,
   "metadata": {},
   "outputs": [],
   "source": [
    "# random indices class 4\n",
    "indices_class4 = dataset[dataset['class']==4].index\n",
    "random_class4_indices = np.random.choice(indices_class4,class7_lenght, replace=False)"
   ]
  },
  {
   "cell_type": "code",
   "execution_count": 10,
   "metadata": {},
   "outputs": [],
   "source": [
    "# random indices class 8\n",
    "indices_class8 = dataset[dataset['class']==8].index\n",
    "random_class8_indices = np.random.choice(indices_class8,class7_lenght, replace=False)"
   ]
  },
  {
   "cell_type": "code",
   "execution_count": 11,
   "metadata": {},
   "outputs": [],
   "source": [
    "# random indices class 1\n",
    "indices_class1 = dataset[dataset['class']==1].index\n",
    "random_class1_indices = np.random.choice(indices_class1,class7_lenght, replace=False)"
   ]
  },
  {
   "cell_type": "code",
   "execution_count": 12,
   "metadata": {},
   "outputs": [],
   "source": [
    "# random indices class 0\n",
    "indices_class0 = dataset[dataset['class']==0].index\n",
    "random_class0_indices = np.random.choice(indices_class0,class7_lenght, replace=False)"
   ]
  },
  {
   "cell_type": "code",
   "execution_count": 13,
   "metadata": {},
   "outputs": [],
   "source": [
    "# random indices class 3\n",
    "indices_class3 = dataset[dataset['class']==3].index\n",
    "random_class3_indices = np.random.choice(indices_class3,class7_lenght, replace=False)"
   ]
  },
  {
   "cell_type": "code",
   "execution_count": 14,
   "metadata": {},
   "outputs": [],
   "source": [
    "# random indices class 6\n",
    "indices_class6 = dataset[dataset['class']==6].index\n",
    "random_class6_indices = np.random.choice(indices_class6,class7_lenght, replace=False)"
   ]
  },
  {
   "cell_type": "code",
   "execution_count": 15,
   "metadata": {},
   "outputs": [],
   "source": [
    "# random indices class 2\n",
    "indices_class2 = dataset[dataset['class']==2].index\n",
    "random_class2_indices = np.random.choice(indices_class2,class7_lenght, replace=False)"
   ]
  },
  {
   "cell_type": "code",
   "execution_count": 16,
   "metadata": {},
   "outputs": [],
   "source": [
    "# random indices class 9\n",
    "indices_class9 = dataset[dataset['class']==9].index\n",
    "random_class9_indices = np.random.choice(indices_class9,class7_lenght, replace=False)"
   ]
  },
  {
   "cell_type": "code",
   "execution_count": 17,
   "metadata": {},
   "outputs": [],
   "source": [
    "#concatinate random indices from all classes to one array\n",
    "indices_combined = np.concatenate([random_class5_indices,random_class4_indices,random_class8_indices,random_class1_indices, random_class0_indices,random_class3_indices, random_class6_indices,random_class2_indices, random_class9_indices, indices_class7])"
   ]
  },
  {
   "cell_type": "code",
   "execution_count": 18,
   "metadata": {},
   "outputs": [
    {
     "data": {
      "text/plain": [
       "2400"
      ]
     },
     "execution_count": 18,
     "metadata": {},
     "output_type": "execute_result"
    }
   ],
   "source": [
    "len(indices_combined) #random indices array length (10*240)"
   ]
  },
  {
   "cell_type": "code",
   "execution_count": 19,
   "metadata": {},
   "outputs": [],
   "source": [
    "#find all these random indices from dataset and put them in a new dataframe df_balanced\n",
    "#now we have a balanced dataframe with 240 images of each class\n",
    "df_balanced = dataset.loc[indices_combined] "
   ]
  },
  {
   "cell_type": "code",
   "execution_count": 20,
   "metadata": {},
   "outputs": [],
   "source": [
    "df_balanced.reset_index(inplace = True) #reset the indices of the new dataframe"
   ]
  },
  {
   "cell_type": "code",
   "execution_count": 21,
   "metadata": {},
   "outputs": [],
   "source": [
    "dataset_big = df_balanced.drop(['index'],axis=1) #drop the index column from the new dataframe"
   ]
  },
  {
   "cell_type": "code",
   "execution_count": 22,
   "metadata": {},
   "outputs": [
    {
     "data": {
      "text/html": [
       "<div>\n",
       "<style scoped>\n",
       "    .dataframe tbody tr th:only-of-type {\n",
       "        vertical-align: middle;\n",
       "    }\n",
       "\n",
       "    .dataframe tbody tr th {\n",
       "        vertical-align: top;\n",
       "    }\n",
       "\n",
       "    .dataframe thead th {\n",
       "        text-align: right;\n",
       "    }\n",
       "</style>\n",
       "<table border=\"1\" class=\"dataframe\">\n",
       "  <thead>\n",
       "    <tr style=\"text-align: right;\">\n",
       "      <th></th>\n",
       "      <th>1</th>\n",
       "      <th>2</th>\n",
       "      <th>3</th>\n",
       "      <th>class</th>\n",
       "    </tr>\n",
       "  </thead>\n",
       "  <tbody>\n",
       "    <tr>\n",
       "      <th>0</th>\n",
       "      <td>14.308720</td>\n",
       "      <td>-18.242092</td>\n",
       "      <td>6.722791</td>\n",
       "      <td>5.0</td>\n",
       "    </tr>\n",
       "    <tr>\n",
       "      <th>1</th>\n",
       "      <td>12.902898</td>\n",
       "      <td>-11.999542</td>\n",
       "      <td>-9.734824</td>\n",
       "      <td>5.0</td>\n",
       "    </tr>\n",
       "    <tr>\n",
       "      <th>2</th>\n",
       "      <td>16.918896</td>\n",
       "      <td>-16.867287</td>\n",
       "      <td>4.671368</td>\n",
       "      <td>5.0</td>\n",
       "    </tr>\n",
       "    <tr>\n",
       "      <th>3</th>\n",
       "      <td>5.347383</td>\n",
       "      <td>-15.167626</td>\n",
       "      <td>3.891540</td>\n",
       "      <td>5.0</td>\n",
       "    </tr>\n",
       "    <tr>\n",
       "      <th>4</th>\n",
       "      <td>9.434912</td>\n",
       "      <td>-17.203398</td>\n",
       "      <td>-4.885763</td>\n",
       "      <td>5.0</td>\n",
       "    </tr>\n",
       "    <tr>\n",
       "      <th>5</th>\n",
       "      <td>5.960486</td>\n",
       "      <td>-3.054672</td>\n",
       "      <td>-0.776122</td>\n",
       "      <td>5.0</td>\n",
       "    </tr>\n",
       "    <tr>\n",
       "      <th>6</th>\n",
       "      <td>6.225786</td>\n",
       "      <td>-15.822212</td>\n",
       "      <td>1.103796</td>\n",
       "      <td>5.0</td>\n",
       "    </tr>\n",
       "    <tr>\n",
       "      <th>7</th>\n",
       "      <td>16.049709</td>\n",
       "      <td>-11.336446</td>\n",
       "      <td>-5.864088</td>\n",
       "      <td>5.0</td>\n",
       "    </tr>\n",
       "    <tr>\n",
       "      <th>8</th>\n",
       "      <td>18.519135</td>\n",
       "      <td>19.623085</td>\n",
       "      <td>-2.553057</td>\n",
       "      <td>5.0</td>\n",
       "    </tr>\n",
       "    <tr>\n",
       "      <th>9</th>\n",
       "      <td>15.161098</td>\n",
       "      <td>-21.005285</td>\n",
       "      <td>0.919621</td>\n",
       "      <td>5.0</td>\n",
       "    </tr>\n",
       "  </tbody>\n",
       "</table>\n",
       "</div>"
      ],
      "text/plain": [
       "           1          2         3  class\n",
       "0  14.308720 -18.242092  6.722791    5.0\n",
       "1  12.902898 -11.999542 -9.734824    5.0\n",
       "2  16.918896 -16.867287  4.671368    5.0\n",
       "3   5.347383 -15.167626  3.891540    5.0\n",
       "4   9.434912 -17.203398 -4.885763    5.0\n",
       "5   5.960486  -3.054672 -0.776122    5.0\n",
       "6   6.225786 -15.822212  1.103796    5.0\n",
       "7  16.049709 -11.336446 -5.864088    5.0\n",
       "8  18.519135  19.623085 -2.553057    5.0\n",
       "9  15.161098 -21.005285  0.919621    5.0"
      ]
     },
     "execution_count": 22,
     "metadata": {},
     "output_type": "execute_result"
    }
   ],
   "source": [
    "dataset_big.head(10)"
   ]
  },
  {
   "cell_type": "code",
   "execution_count": 23,
   "metadata": {},
   "outputs": [
    {
     "data": {
      "text/plain": [
       "array([[ 14.30871964, -18.24209213,   6.72279072,   5.        ],\n",
       "       [ 12.90289783, -11.99954224,  -9.73482418,   5.        ],\n",
       "       [ 16.91889572, -16.86728668,   4.67136765,   5.        ],\n",
       "       ...,\n",
       "       [-13.94667339,  -4.42946243,  -4.77007675,   7.        ],\n",
       "       [-20.24118996,  -9.7708149 ,  -3.01394749,   7.        ],\n",
       "       [-11.08327675,  -3.58953881,  -3.37414885,   7.        ]])"
      ]
     },
     "execution_count": 23,
     "metadata": {},
     "output_type": "execute_result"
    }
   ],
   "source": [
    "dataset_big.values # with .values we are taking the dataframe as an array"
   ]
  },
  {
   "cell_type": "code",
   "execution_count": 24,
   "metadata": {},
   "outputs": [],
   "source": [
    "X = dataset_big.iloc[:,:-1].values #we drop the last value which is the class to create a features dataframe\n",
    "y = dataset_big.iloc[:,3].values #we keep only the last value to create a class dataframe"
   ]
  },
  {
   "cell_type": "code",
   "execution_count": 25,
   "metadata": {},
   "outputs": [],
   "source": [
    "min_max = MinMaxScaler() #initialize min_max as a MinMaxScaler()\n",
    "X_scaled = min_max.fit_transform(X) #we perform a min-max scale to features in order to have values from 0 to 1"
   ]
  },
  {
   "cell_type": "code",
   "execution_count": 26,
   "metadata": {
    "scrolled": true
   },
   "outputs": [
    {
     "data": {
      "text/plain": [
       "array([[0.76815475, 0.21789788, 0.56897431],\n",
       "       [0.74408797, 0.32226229, 0.258701  ],\n",
       "       [0.81283932, 0.2408822 , 0.53029909],\n",
       "       ...,\n",
       "       [0.28444025, 0.44882066, 0.35230075],\n",
       "       [0.1766821 , 0.35952268, 0.38540883],\n",
       "       [0.3334598 , 0.4628627 , 0.378618  ]])"
      ]
     },
     "execution_count": 26,
     "metadata": {},
     "output_type": "execute_result"
    }
   ],
   "source": [
    "X_scaled"
   ]
  },
  {
   "cell_type": "code",
   "execution_count": 27,
   "metadata": {},
   "outputs": [],
   "source": [
    "#we split the sample to train and test with an 80-20 analogy\n",
    "X_train, X_test, y_train, y_test = train_test_split(X_scaled, y, test_size=0.2, stratify=y) "
   ]
  },
  {
   "cell_type": "code",
   "execution_count": 28,
   "metadata": {},
   "outputs": [],
   "source": [
    "#ploting histograms to see if the data follows normal distibution\n",
    "#plt.hist(X[50])\n",
    "#plt.show()"
   ]
  },
  {
   "cell_type": "code",
   "execution_count": 29,
   "metadata": {},
   "outputs": [],
   "source": [
    "classifier_ga = GaussianNB() #initialize classifier_ga as a GaussianNB()\n",
    "classifier_ml = MultinomialNB() #initialize classifier_ml as a MultinomialNB()\n",
    "#train the model with classifier_ga\n",
    "classifier_ga.fit(X_train,y_train)\n",
    "#test the model with classifier_ga\n",
    "y_pred_ga = classifier_ga.predict(X_test)\n",
    "cm = confusion_matrix(y_test,y_pred_ga)"
   ]
  },
  {
   "cell_type": "code",
   "execution_count": 30,
   "metadata": {},
   "outputs": [
    {
     "data": {
      "text/plain": [
       "array([[33,  6,  0,  0,  0,  4,  0,  1,  3,  1],\n",
       "       [27,  8,  0,  0,  0,  3,  0,  5,  0,  5],\n",
       "       [ 0,  1, 40,  0,  0,  2,  0,  5,  0,  0],\n",
       "       [ 0,  0,  1, 45,  1,  0,  0,  0,  1,  0],\n",
       "       [ 1,  1,  6,  2, 27,  8,  0,  0,  3,  0],\n",
       "       [ 1,  8,  3,  0,  4, 26,  0,  0,  0,  6],\n",
       "       [ 0,  0,  0,  0,  0,  2, 45,  0,  1,  0],\n",
       "       [ 0,  0,  0,  1,  6,  3,  0, 36,  2,  0],\n",
       "       [ 0,  0,  1,  0,  2,  1,  4,  7, 33,  0],\n",
       "       [ 7,  0,  0,  0,  0, 15,  0,  0,  0, 26]], dtype=int64)"
      ]
     },
     "execution_count": 30,
     "metadata": {},
     "output_type": "execute_result"
    }
   ],
   "source": [
    "cm #confusion matrix "
   ]
  },
  {
   "cell_type": "code",
   "execution_count": 31,
   "metadata": {},
   "outputs": [
    {
     "data": {
      "image/png": "[encoded data removed]",
      "text/plain": [
       "<Figure size 360x360 with 1 Axes>"
      ]
     },
     "metadata": {
      "needs_background": "light"
     },
     "output_type": "display_data"
    }
   ],
   "source": [
    "#we transform the confusion matrix to a heatmap\n",
    "fig, ax = plt.subplots(figsize=(5,5))\n",
    "ax = sns.heatmap(cm,annot=True,cmap=\"RdPu\",fmt=\".0f\",cbar=False)\n",
    "plt.show()"
   ]
  },
  {
   "cell_type": "code",
   "execution_count": 32,
   "metadata": {},
   "outputs": [
    {
     "name": "stdout",
     "output_type": "stream",
     "text": [
      "              precision    recall  f1-score   support\n",
      "\n",
      "         0.0       0.48      0.69      0.56        48\n",
      "         1.0       0.33      0.17      0.22        48\n",
      "         2.0       0.78      0.83      0.81        48\n",
      "         3.0       0.94      0.94      0.94        48\n",
      "         4.0       0.68      0.56      0.61        48\n",
      "         5.0       0.41      0.54      0.46        48\n",
      "         6.0       0.92      0.94      0.93        48\n",
      "         7.0       0.67      0.75      0.71        48\n",
      "         8.0       0.77      0.69      0.73        48\n",
      "         9.0       0.68      0.54      0.60        48\n",
      "\n",
      "    accuracy                           0.66       480\n",
      "   macro avg       0.67      0.66      0.66       480\n",
      "weighted avg       0.67      0.66      0.66       480\n",
      "\n"
     ]
    }
   ],
   "source": [
    "#classidication report\n",
    "print(classification_report(y_test,y_pred_ga))"
   ]
  },
  {
   "cell_type": "code",
   "execution_count": 33,
   "metadata": {},
   "outputs": [],
   "source": [
    "# ten fold cross validation\n",
    "# scoring='precision' , scoring='recall' , scoring='f1'\n",
    "accuracy = cross_val_score(estimator = classifier_ga, X = X_scaled, y = y, cv =10)"
   ]
  },
  {
   "cell_type": "code",
   "execution_count": 34,
   "metadata": {},
   "outputs": [
    {
     "data": {
      "text/plain": [
       "0.635"
      ]
     },
     "execution_count": 34,
     "metadata": {},
     "output_type": "execute_result"
    }
   ],
   "source": [
    "#accuracy.mean after running the model for 10 times \n",
    "accuracy.mean()"
   ]
  },
  {
   "cell_type": "code",
   "execution_count": 35,
   "metadata": {},
   "outputs": [
    {
     "data": {
      "image/png": "[encoded data removed]",
      "text/plain": [
       "<Figure size 360x360 with 1 Axes>"
      ]
     },
     "metadata": {
      "needs_background": "light"
     },
     "output_type": "display_data"
    }
   ],
   "source": [
    "#train the model with classifier_ml\n",
    "classifier_ml.fit(X_train,y_train)\n",
    "#test the model with classifier_ml\n",
    "y_pred_ml = classifier_ml.predict(X_test)\n",
    "cm_ml = confusion_matrix(y_test,y_pred_ml)\n",
    "\n",
    "#we transform the confusion matrix to a heatmap\n",
    "fig, ax = plt.subplots(figsize=(5,5))\n",
    "ax = sns.heatmap(cm_ml,annot=True,cmap=\"RdPu\",fmt=\".0f\",cbar=False)\n",
    "plt.show()"
   ]
  },
  {
   "cell_type": "code",
   "execution_count": 36,
   "metadata": {
    "scrolled": true
   },
   "outputs": [
    {
     "name": "stdout",
     "output_type": "stream",
     "text": [
      "              precision    recall  f1-score   support\n",
      "\n",
      "         0.0       0.48      0.75      0.59        48\n",
      "         1.0       0.55      0.12      0.20        48\n",
      "         2.0       0.59      0.35      0.44        48\n",
      "         3.0       0.51      0.50      0.51        48\n",
      "         4.0       0.42      0.44      0.43        48\n",
      "         5.0       0.39      0.67      0.49        48\n",
      "         6.0       0.75      0.94      0.83        48\n",
      "         7.0       0.00      0.00      0.00        48\n",
      "         8.0       0.24      0.29      0.26        48\n",
      "         9.0       0.25      0.31      0.28        48\n",
      "\n",
      "    accuracy                           0.44       480\n",
      "   macro avg       0.42      0.44      0.40       480\n",
      "weighted avg       0.42      0.44      0.40       480\n",
      "\n"
     ]
    }
   ],
   "source": [
    "#classidication report\n",
    "print(classification_report(y_test,y_pred_ml))"
   ]
  },
  {
   "cell_type": "code",
   "execution_count": 37,
   "metadata": {},
   "outputs": [],
   "source": [
    "# ten fold cross validation\n",
    "# scoring='precision' , scoring='recall' , scoring='f1'\n",
    "accuracy = cross_val_score(estimator = classifier_ml, X = X_scaled, y = y, cv =10)"
   ]
  },
  {
   "cell_type": "code",
   "execution_count": 38,
   "metadata": {},
   "outputs": [
    {
     "data": {
      "text/plain": [
       "0.425"
      ]
     },
     "execution_count": 38,
     "metadata": {},
     "output_type": "execute_result"
    }
   ],
   "source": [
    "#accuracy.mean after running the model for 10 times \n",
    "accuracy.mean()"
   ]
  },
  {
   "cell_type": "code",
   "execution_count": null,
   "metadata": {},
   "outputs": [],
   "source": []
  },
  {
   "cell_type": "code",
   "execution_count": null,
   "metadata": {},
   "outputs": [],
   "source": []
  },
  {
   "cell_type": "code",
   "execution_count": null,
   "metadata": {},
   "outputs": [],
   "source": []
  },
  {
   "cell_type": "code",
   "execution_count": null,
   "metadata": {},
   "outputs": [],
   "source": []
  },
  {
   "cell_type": "code",
   "execution_count": null,
   "metadata": {},
   "outputs": [],
   "source": []
  },
  {
   "cell_type": "code",
   "execution_count": null,
   "metadata": {},
   "outputs": [],
   "source": []
  },
  {
   "cell_type": "code",
   "execution_count": null,
   "metadata": {},
   "outputs": [],
   "source": []
  },
  {
   "cell_type": "code",
   "execution_count": null,
   "metadata": {},
   "outputs": [],
   "source": []
  },
  {
   "cell_type": "code",
   "execution_count": null,
   "metadata": {},
   "outputs": [],
   "source": []
  },
  {
   "cell_type": "code",
   "execution_count": null,
   "metadata": {},
   "outputs": [],
   "source": []
  },
  {
   "cell_type": "code",
   "execution_count": null,
   "metadata": {},
   "outputs": [],
   "source": []
  }
 ],
 "metadata": {
  "kernelspec": {
   "display_name": "Python 3",
   "language": "python",
   "name": "python3"
  },
  "language_info": {
   "codemirror_mode": {
    "name": "ipython",
    "version": 3
   },
   "file_extension": ".py",
   "mimetype": "text/x-python",
   "name": "python",
   "nbconvert_exporter": "python",
   "pygments_lexer": "ipython3",
   "version": "3.7.4"
  }
 },
 "nbformat": 4,
 "nbformat_minor": 4
}

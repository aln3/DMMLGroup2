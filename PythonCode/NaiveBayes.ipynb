{
 "cells": [
  {
   "cell_type": "code",
   "execution_count": 1,
   "metadata": {},
   "outputs": [],
   "source": [
    "import pandas as pd\n",
    "import numpy as np\n",
    "from sklearn.preprocessing import MinMaxScaler\n",
    "from sklearn.preprocessing import StandardScaler\n",
    "\n",
    "# plots\n",
    "import seaborn as sns\n",
    "import matplotlib.pyplot as plt\n",
    "\n",
    "#classifiers\n",
    "from sklearn.naive_bayes import MultinomialNB\n",
    "from sklearn.naive_bayes import GaussianNB\n",
    "\n",
    "#train test split\n",
    "from sklearn.model_selection import train_test_split\n",
    "from sklearn.metrics import accuracy_score, f1_score, precision_score, recall_score, classification_report, confusion_matrix\n",
    "from sklearn.model_selection import cross_val_score\n",
    "\n",
    "#feature selection\n",
    "from sklearn.feature_selection import SelectKBest, chi2 , f_classif , f_regression\n",
    "\n",
    "%matplotlib inline"
   ]
  },
  {
   "cell_type": "code",
   "execution_count": 2,
   "metadata": {},
   "outputs": [],
   "source": [
    "# import data\n",
    "df_features = pd.read_csv('x_train_gr_smpl.csv') #read features csv as dataframe\n",
    "df_classes = pd.read_csv('y_train_smpl.csv') #read classes csv as dataframe\n",
    "df_classes.columns = ['class'] #rename classes header to 'class'\n",
    "df_concat = pd.concat([df_features,df_classes],axis=1) #concatinate features dataframe with class dataframe column"
   ]
  },
  {
   "cell_type": "code",
   "execution_count": 3,
   "metadata": {},
   "outputs": [
    {
     "data": {
      "text/html": [
       "<div>\n",
       "<style scoped>\n",
       "    .dataframe tbody tr th:only-of-type {\n",
       "        vertical-align: middle;\n",
       "    }\n",
       "\n",
       "    .dataframe tbody tr th {\n",
       "        vertical-align: top;\n",
       "    }\n",
       "\n",
       "    .dataframe thead th {\n",
       "        text-align: right;\n",
       "    }\n",
       "</style>\n",
       "<table border=\"1\" class=\"dataframe\">\n",
       "  <thead>\n",
       "    <tr style=\"text-align: right;\">\n",
       "      <th></th>\n",
       "      <th>0</th>\n",
       "      <th>1</th>\n",
       "      <th>2</th>\n",
       "      <th>3</th>\n",
       "      <th>4</th>\n",
       "      <th>5</th>\n",
       "      <th>6</th>\n",
       "      <th>7</th>\n",
       "      <th>8</th>\n",
       "      <th>9</th>\n",
       "      <th>...</th>\n",
       "      <th>2295</th>\n",
       "      <th>2296</th>\n",
       "      <th>2297</th>\n",
       "      <th>2298</th>\n",
       "      <th>2299</th>\n",
       "      <th>2300</th>\n",
       "      <th>2301</th>\n",
       "      <th>2302</th>\n",
       "      <th>2303</th>\n",
       "      <th>class</th>\n",
       "    </tr>\n",
       "  </thead>\n",
       "  <tbody>\n",
       "    <tr>\n",
       "      <th>0</th>\n",
       "      <td>30.0</td>\n",
       "      <td>29.0</td>\n",
       "      <td>28.0</td>\n",
       "      <td>29.0</td>\n",
       "      <td>31.0</td>\n",
       "      <td>30.0</td>\n",
       "      <td>29.0</td>\n",
       "      <td>28.0</td>\n",
       "      <td>27.0</td>\n",
       "      <td>26.0</td>\n",
       "      <td>...</td>\n",
       "      <td>32.0</td>\n",
       "      <td>35.0</td>\n",
       "      <td>38.0</td>\n",
       "      <td>39.0</td>\n",
       "      <td>39.0</td>\n",
       "      <td>40.0</td>\n",
       "      <td>39.0</td>\n",
       "      <td>39.0</td>\n",
       "      <td>38.0</td>\n",
       "      <td>0</td>\n",
       "    </tr>\n",
       "    <tr>\n",
       "      <th>1</th>\n",
       "      <td>31.0</td>\n",
       "      <td>31.0</td>\n",
       "      <td>33.0</td>\n",
       "      <td>32.0</td>\n",
       "      <td>31.0</td>\n",
       "      <td>30.0</td>\n",
       "      <td>29.0</td>\n",
       "      <td>28.0</td>\n",
       "      <td>28.0</td>\n",
       "      <td>28.0</td>\n",
       "      <td>...</td>\n",
       "      <td>34.0</td>\n",
       "      <td>35.0</td>\n",
       "      <td>36.0</td>\n",
       "      <td>36.0</td>\n",
       "      <td>37.0</td>\n",
       "      <td>38.0</td>\n",
       "      <td>38.0</td>\n",
       "      <td>37.0</td>\n",
       "      <td>37.0</td>\n",
       "      <td>0</td>\n",
       "    </tr>\n",
       "    <tr>\n",
       "      <th>2</th>\n",
       "      <td>30.0</td>\n",
       "      <td>30.0</td>\n",
       "      <td>31.0</td>\n",
       "      <td>29.0</td>\n",
       "      <td>28.0</td>\n",
       "      <td>27.0</td>\n",
       "      <td>26.0</td>\n",
       "      <td>28.0</td>\n",
       "      <td>30.0</td>\n",
       "      <td>31.0</td>\n",
       "      <td>...</td>\n",
       "      <td>35.0</td>\n",
       "      <td>37.0</td>\n",
       "      <td>37.0</td>\n",
       "      <td>38.0</td>\n",
       "      <td>39.0</td>\n",
       "      <td>38.0</td>\n",
       "      <td>38.0</td>\n",
       "      <td>39.0</td>\n",
       "      <td>40.0</td>\n",
       "      <td>0</td>\n",
       "    </tr>\n",
       "    <tr>\n",
       "      <th>3</th>\n",
       "      <td>26.0</td>\n",
       "      <td>25.0</td>\n",
       "      <td>24.0</td>\n",
       "      <td>24.0</td>\n",
       "      <td>24.0</td>\n",
       "      <td>27.0</td>\n",
       "      <td>28.0</td>\n",
       "      <td>29.0</td>\n",
       "      <td>29.0</td>\n",
       "      <td>30.0</td>\n",
       "      <td>...</td>\n",
       "      <td>34.0</td>\n",
       "      <td>36.0</td>\n",
       "      <td>37.0</td>\n",
       "      <td>38.0</td>\n",
       "      <td>42.0</td>\n",
       "      <td>40.0</td>\n",
       "      <td>37.0</td>\n",
       "      <td>36.0</td>\n",
       "      <td>36.0</td>\n",
       "      <td>0</td>\n",
       "    </tr>\n",
       "    <tr>\n",
       "      <th>4</th>\n",
       "      <td>25.0</td>\n",
       "      <td>26.0</td>\n",
       "      <td>28.0</td>\n",
       "      <td>28.0</td>\n",
       "      <td>28.0</td>\n",
       "      <td>28.0</td>\n",
       "      <td>28.0</td>\n",
       "      <td>27.0</td>\n",
       "      <td>26.0</td>\n",
       "      <td>25.0</td>\n",
       "      <td>...</td>\n",
       "      <td>31.0</td>\n",
       "      <td>33.0</td>\n",
       "      <td>37.0</td>\n",
       "      <td>38.0</td>\n",
       "      <td>37.0</td>\n",
       "      <td>36.0</td>\n",
       "      <td>36.0</td>\n",
       "      <td>35.0</td>\n",
       "      <td>35.0</td>\n",
       "      <td>0</td>\n",
       "    </tr>\n",
       "    <tr>\n",
       "      <th>5</th>\n",
       "      <td>27.0</td>\n",
       "      <td>27.0</td>\n",
       "      <td>28.0</td>\n",
       "      <td>27.0</td>\n",
       "      <td>26.0</td>\n",
       "      <td>24.0</td>\n",
       "      <td>24.0</td>\n",
       "      <td>23.0</td>\n",
       "      <td>23.0</td>\n",
       "      <td>23.0</td>\n",
       "      <td>...</td>\n",
       "      <td>35.0</td>\n",
       "      <td>36.0</td>\n",
       "      <td>38.0</td>\n",
       "      <td>39.0</td>\n",
       "      <td>40.0</td>\n",
       "      <td>38.0</td>\n",
       "      <td>36.0</td>\n",
       "      <td>35.0</td>\n",
       "      <td>36.0</td>\n",
       "      <td>0</td>\n",
       "    </tr>\n",
       "    <tr>\n",
       "      <th>6</th>\n",
       "      <td>24.0</td>\n",
       "      <td>24.0</td>\n",
       "      <td>24.0</td>\n",
       "      <td>25.0</td>\n",
       "      <td>25.0</td>\n",
       "      <td>26.0</td>\n",
       "      <td>25.0</td>\n",
       "      <td>23.0</td>\n",
       "      <td>21.0</td>\n",
       "      <td>21.0</td>\n",
       "      <td>...</td>\n",
       "      <td>37.0</td>\n",
       "      <td>37.0</td>\n",
       "      <td>37.0</td>\n",
       "      <td>37.0</td>\n",
       "      <td>38.0</td>\n",
       "      <td>38.0</td>\n",
       "      <td>36.0</td>\n",
       "      <td>35.0</td>\n",
       "      <td>34.0</td>\n",
       "      <td>0</td>\n",
       "    </tr>\n",
       "    <tr>\n",
       "      <th>7</th>\n",
       "      <td>24.0</td>\n",
       "      <td>25.0</td>\n",
       "      <td>25.0</td>\n",
       "      <td>23.0</td>\n",
       "      <td>22.0</td>\n",
       "      <td>22.0</td>\n",
       "      <td>22.0</td>\n",
       "      <td>22.0</td>\n",
       "      <td>22.0</td>\n",
       "      <td>22.0</td>\n",
       "      <td>...</td>\n",
       "      <td>34.0</td>\n",
       "      <td>34.0</td>\n",
       "      <td>37.0</td>\n",
       "      <td>41.0</td>\n",
       "      <td>40.0</td>\n",
       "      <td>40.0</td>\n",
       "      <td>41.0</td>\n",
       "      <td>35.0</td>\n",
       "      <td>31.0</td>\n",
       "      <td>0</td>\n",
       "    </tr>\n",
       "    <tr>\n",
       "      <th>8</th>\n",
       "      <td>20.0</td>\n",
       "      <td>21.0</td>\n",
       "      <td>22.0</td>\n",
       "      <td>21.0</td>\n",
       "      <td>21.0</td>\n",
       "      <td>21.0</td>\n",
       "      <td>20.0</td>\n",
       "      <td>20.0</td>\n",
       "      <td>22.0</td>\n",
       "      <td>22.0</td>\n",
       "      <td>...</td>\n",
       "      <td>35.0</td>\n",
       "      <td>34.0</td>\n",
       "      <td>35.0</td>\n",
       "      <td>37.0</td>\n",
       "      <td>35.0</td>\n",
       "      <td>35.0</td>\n",
       "      <td>37.0</td>\n",
       "      <td>35.0</td>\n",
       "      <td>34.0</td>\n",
       "      <td>0</td>\n",
       "    </tr>\n",
       "    <tr>\n",
       "      <th>9</th>\n",
       "      <td>20.0</td>\n",
       "      <td>20.0</td>\n",
       "      <td>21.0</td>\n",
       "      <td>20.0</td>\n",
       "      <td>19.0</td>\n",
       "      <td>18.0</td>\n",
       "      <td>18.0</td>\n",
       "      <td>18.0</td>\n",
       "      <td>18.0</td>\n",
       "      <td>19.0</td>\n",
       "      <td>...</td>\n",
       "      <td>32.0</td>\n",
       "      <td>37.0</td>\n",
       "      <td>39.0</td>\n",
       "      <td>36.0</td>\n",
       "      <td>38.0</td>\n",
       "      <td>38.0</td>\n",
       "      <td>35.0</td>\n",
       "      <td>35.0</td>\n",
       "      <td>36.0</td>\n",
       "      <td>0</td>\n",
       "    </tr>\n",
       "  </tbody>\n",
       "</table>\n",
       "<p>10 rows × 2305 columns</p>\n",
       "</div>"
      ],
      "text/plain": [
       "      0     1     2     3     4     5     6     7     8     9  ...  2295  \\\n",
       "0  30.0  29.0  28.0  29.0  31.0  30.0  29.0  28.0  27.0  26.0  ...  32.0   \n",
       "1  31.0  31.0  33.0  32.0  31.0  30.0  29.0  28.0  28.0  28.0  ...  34.0   \n",
       "2  30.0  30.0  31.0  29.0  28.0  27.0  26.0  28.0  30.0  31.0  ...  35.0   \n",
       "3  26.0  25.0  24.0  24.0  24.0  27.0  28.0  29.0  29.0  30.0  ...  34.0   \n",
       "4  25.0  26.0  28.0  28.0  28.0  28.0  28.0  27.0  26.0  25.0  ...  31.0   \n",
       "5  27.0  27.0  28.0  27.0  26.0  24.0  24.0  23.0  23.0  23.0  ...  35.0   \n",
       "6  24.0  24.0  24.0  25.0  25.0  26.0  25.0  23.0  21.0  21.0  ...  37.0   \n",
       "7  24.0  25.0  25.0  23.0  22.0  22.0  22.0  22.0  22.0  22.0  ...  34.0   \n",
       "8  20.0  21.0  22.0  21.0  21.0  21.0  20.0  20.0  22.0  22.0  ...  35.0   \n",
       "9  20.0  20.0  21.0  20.0  19.0  18.0  18.0  18.0  18.0  19.0  ...  32.0   \n",
       "\n",
       "   2296  2297  2298  2299  2300  2301  2302  2303  class  \n",
       "0  35.0  38.0  39.0  39.0  40.0  39.0  39.0  38.0      0  \n",
       "1  35.0  36.0  36.0  37.0  38.0  38.0  37.0  37.0      0  \n",
       "2  37.0  37.0  38.0  39.0  38.0  38.0  39.0  40.0      0  \n",
       "3  36.0  37.0  38.0  42.0  40.0  37.0  36.0  36.0      0  \n",
       "4  33.0  37.0  38.0  37.0  36.0  36.0  35.0  35.0      0  \n",
       "5  36.0  38.0  39.0  40.0  38.0  36.0  35.0  36.0      0  \n",
       "6  37.0  37.0  37.0  38.0  38.0  36.0  35.0  34.0      0  \n",
       "7  34.0  37.0  41.0  40.0  40.0  41.0  35.0  31.0      0  \n",
       "8  34.0  35.0  37.0  35.0  35.0  37.0  35.0  34.0      0  \n",
       "9  37.0  39.0  36.0  38.0  38.0  35.0  35.0  36.0      0  \n",
       "\n",
       "[10 rows x 2305 columns]"
      ]
     },
     "execution_count": 3,
     "metadata": {},
     "output_type": "execute_result"
    }
   ],
   "source": [
    "df_concat.head(10)"
   ]
  },
  {
   "cell_type": "code",
   "execution_count": 4,
   "metadata": {},
   "outputs": [
    {
     "data": {
      "text/plain": [
       "5    2160\n",
       "4    2100\n",
       "8    2070\n",
       "1    1860\n",
       "0    1410\n",
       "3    1320\n",
       "6     780\n",
       "2     420\n",
       "9     300\n",
       "7     240\n",
       "Name: class, dtype: int64"
      ]
     },
     "execution_count": 4,
     "metadata": {},
     "output_type": "execute_result"
    }
   ],
   "source": [
    "df_concat['class'].value_counts() #find how many pictures each class has"
   ]
  },
  {
   "cell_type": "code",
   "execution_count": 5,
   "metadata": {},
   "outputs": [],
   "source": [
    "np.random.seed(0) #use the same random sample each time"
   ]
  },
  {
   "cell_type": "code",
   "execution_count": 6,
   "metadata": {},
   "outputs": [],
   "source": [
    "class7_lenght = len(df_concat[df_concat['class']==7]) #take the lenght of the smallest class (class7)\n",
    "indices_class7 = df_concat[df_concat['class']==7].index #take the indices of the class7 images"
   ]
  },
  {
   "cell_type": "code",
   "execution_count": 7,
   "metadata": {},
   "outputs": [],
   "source": [
    "# random indices class 5\n",
    "indices_class5 = df_concat[df_concat['class']==5].index #take the indices of the class5 images\n",
    "random_class5_indices = np.random.choice(indices_class5,class7_lenght, replace=False) #take 240 random indices from class5"
   ]
  },
  {
   "cell_type": "code",
   "execution_count": 8,
   "metadata": {},
   "outputs": [],
   "source": [
    "# random indices class 4\n",
    "indices_class4 = df_concat[df_concat['class']==4].index\n",
    "random_class4_indices = np.random.choice(indices_class4,class7_lenght, replace=False)"
   ]
  },
  {
   "cell_type": "code",
   "execution_count": 9,
   "metadata": {},
   "outputs": [],
   "source": [
    "# random indices class 8\n",
    "indices_class8 = df_concat[df_concat['class']==8].index\n",
    "random_class8_indices = np.random.choice(indices_class8,class7_lenght, replace=False)"
   ]
  },
  {
   "cell_type": "code",
   "execution_count": 10,
   "metadata": {},
   "outputs": [],
   "source": [
    "# random indices class 1\n",
    "indices_class1 = df_concat[df_concat['class']==1].index\n",
    "random_class1_indices = np.random.choice(indices_class1,class7_lenght, replace=False)"
   ]
  },
  {
   "cell_type": "code",
   "execution_count": 11,
   "metadata": {},
   "outputs": [],
   "source": [
    "# random indices class 0\n",
    "indices_class0 = df_concat[df_concat['class']==0].index\n",
    "random_class0_indices = np.random.choice(indices_class0,class7_lenght, replace=False)"
   ]
  },
  {
   "cell_type": "code",
   "execution_count": 12,
   "metadata": {},
   "outputs": [],
   "source": [
    "# random indices class 3\n",
    "indices_class3 = df_concat[df_concat['class']==3].index\n",
    "random_class3_indices = np.random.choice(indices_class3,class7_lenght, replace=False)"
   ]
  },
  {
   "cell_type": "code",
   "execution_count": 13,
   "metadata": {},
   "outputs": [],
   "source": [
    "# random indices class 6\n",
    "indices_class6 = df_concat[df_concat['class']==6].index\n",
    "random_class6_indices = np.random.choice(indices_class6,class7_lenght, replace=False)"
   ]
  },
  {
   "cell_type": "code",
   "execution_count": 14,
   "metadata": {},
   "outputs": [],
   "source": [
    "# random indices class 2\n",
    "indices_class2 = df_concat[df_concat['class']==2].index\n",
    "random_class2_indices = np.random.choice(indices_class2,class7_lenght, replace=False)"
   ]
  },
  {
   "cell_type": "code",
   "execution_count": 15,
   "metadata": {},
   "outputs": [],
   "source": [
    "# random indices class 9\n",
    "indices_class9 = df_concat[df_concat['class']==9].index\n",
    "random_class9_indices = np.random.choice(indices_class9,class7_lenght, replace=False)"
   ]
  },
  {
   "cell_type": "code",
   "execution_count": 16,
   "metadata": {},
   "outputs": [],
   "source": [
    "#concatinate random indices from all classes to one array\n",
    "indices_combined = np.concatenate([random_class5_indices,random_class4_indices,random_class8_indices,random_class1_indices, random_class0_indices,random_class3_indices, random_class6_indices,random_class2_indices, random_class9_indices, indices_class7])"
   ]
  },
  {
   "cell_type": "code",
   "execution_count": 17,
   "metadata": {},
   "outputs": [
    {
     "data": {
      "text/plain": [
       "2400"
      ]
     },
     "execution_count": 17,
     "metadata": {},
     "output_type": "execute_result"
    }
   ],
   "source": [
    "len(indices_combined) #random indices array length (10*240)"
   ]
  },
  {
   "cell_type": "code",
   "execution_count": 18,
   "metadata": {},
   "outputs": [],
   "source": [
    "#find all these random indices from the df_concat dataframe and put them in a new dataframe df_balanced\n",
    "#now we have a balanced dataframe with 240 images of each class\n",
    "df_balanced = df_concat.loc[indices_combined] "
   ]
  },
  {
   "cell_type": "code",
   "execution_count": 19,
   "metadata": {},
   "outputs": [],
   "source": [
    "df_balanced.reset_index(inplace = True) #reset the indices of the new dataframe"
   ]
  },
  {
   "cell_type": "code",
   "execution_count": 20,
   "metadata": {},
   "outputs": [],
   "source": [
    "dataset_big = df_balanced.drop(['index'],axis=1) #drop the index column from the new dataframe"
   ]
  },
  {
   "cell_type": "code",
   "execution_count": 21,
   "metadata": {},
   "outputs": [
    {
     "data": {
      "text/html": [
       "<div>\n",
       "<style scoped>\n",
       "    .dataframe tbody tr th:only-of-type {\n",
       "        vertical-align: middle;\n",
       "    }\n",
       "\n",
       "    .dataframe tbody tr th {\n",
       "        vertical-align: top;\n",
       "    }\n",
       "\n",
       "    .dataframe thead th {\n",
       "        text-align: right;\n",
       "    }\n",
       "</style>\n",
       "<table border=\"1\" class=\"dataframe\">\n",
       "  <thead>\n",
       "    <tr style=\"text-align: right;\">\n",
       "      <th></th>\n",
       "      <th>0</th>\n",
       "      <th>1</th>\n",
       "      <th>2</th>\n",
       "      <th>3</th>\n",
       "      <th>4</th>\n",
       "      <th>5</th>\n",
       "      <th>6</th>\n",
       "      <th>7</th>\n",
       "      <th>8</th>\n",
       "      <th>9</th>\n",
       "      <th>...</th>\n",
       "      <th>2295</th>\n",
       "      <th>2296</th>\n",
       "      <th>2297</th>\n",
       "      <th>2298</th>\n",
       "      <th>2299</th>\n",
       "      <th>2300</th>\n",
       "      <th>2301</th>\n",
       "      <th>2302</th>\n",
       "      <th>2303</th>\n",
       "      <th>class</th>\n",
       "    </tr>\n",
       "  </thead>\n",
       "  <tbody>\n",
       "    <tr>\n",
       "      <th>0</th>\n",
       "      <td>174.0</td>\n",
       "      <td>242.0</td>\n",
       "      <td>214.0</td>\n",
       "      <td>115.0</td>\n",
       "      <td>107.0</td>\n",
       "      <td>91.0</td>\n",
       "      <td>48.0</td>\n",
       "      <td>33.0</td>\n",
       "      <td>47.0</td>\n",
       "      <td>128.0</td>\n",
       "      <td>...</td>\n",
       "      <td>81.0</td>\n",
       "      <td>114.0</td>\n",
       "      <td>106.0</td>\n",
       "      <td>82.0</td>\n",
       "      <td>80.0</td>\n",
       "      <td>78.0</td>\n",
       "      <td>76.0</td>\n",
       "      <td>67.0</td>\n",
       "      <td>83.0</td>\n",
       "      <td>5</td>\n",
       "    </tr>\n",
       "    <tr>\n",
       "      <th>1</th>\n",
       "      <td>47.0</td>\n",
       "      <td>41.0</td>\n",
       "      <td>28.0</td>\n",
       "      <td>39.0</td>\n",
       "      <td>109.0</td>\n",
       "      <td>226.0</td>\n",
       "      <td>255.0</td>\n",
       "      <td>255.0</td>\n",
       "      <td>255.0</td>\n",
       "      <td>255.0</td>\n",
       "      <td>...</td>\n",
       "      <td>55.0</td>\n",
       "      <td>48.0</td>\n",
       "      <td>33.0</td>\n",
       "      <td>26.0</td>\n",
       "      <td>29.0</td>\n",
       "      <td>19.0</td>\n",
       "      <td>25.0</td>\n",
       "      <td>33.0</td>\n",
       "      <td>25.0</td>\n",
       "      <td>5</td>\n",
       "    </tr>\n",
       "    <tr>\n",
       "      <th>2</th>\n",
       "      <td>37.0</td>\n",
       "      <td>36.0</td>\n",
       "      <td>37.0</td>\n",
       "      <td>39.0</td>\n",
       "      <td>42.0</td>\n",
       "      <td>41.0</td>\n",
       "      <td>39.0</td>\n",
       "      <td>37.0</td>\n",
       "      <td>36.0</td>\n",
       "      <td>34.0</td>\n",
       "      <td>...</td>\n",
       "      <td>68.0</td>\n",
       "      <td>46.0</td>\n",
       "      <td>35.0</td>\n",
       "      <td>31.0</td>\n",
       "      <td>29.0</td>\n",
       "      <td>28.0</td>\n",
       "      <td>35.0</td>\n",
       "      <td>46.0</td>\n",
       "      <td>55.0</td>\n",
       "      <td>5</td>\n",
       "    </tr>\n",
       "    <tr>\n",
       "      <th>3</th>\n",
       "      <td>26.0</td>\n",
       "      <td>25.0</td>\n",
       "      <td>26.0</td>\n",
       "      <td>30.0</td>\n",
       "      <td>31.0</td>\n",
       "      <td>30.0</td>\n",
       "      <td>30.0</td>\n",
       "      <td>31.0</td>\n",
       "      <td>33.0</td>\n",
       "      <td>33.0</td>\n",
       "      <td>...</td>\n",
       "      <td>53.0</td>\n",
       "      <td>49.0</td>\n",
       "      <td>50.0</td>\n",
       "      <td>85.0</td>\n",
       "      <td>77.0</td>\n",
       "      <td>72.0</td>\n",
       "      <td>39.0</td>\n",
       "      <td>31.0</td>\n",
       "      <td>33.0</td>\n",
       "      <td>5</td>\n",
       "    </tr>\n",
       "    <tr>\n",
       "      <th>4</th>\n",
       "      <td>70.0</td>\n",
       "      <td>77.0</td>\n",
       "      <td>72.0</td>\n",
       "      <td>72.0</td>\n",
       "      <td>73.0</td>\n",
       "      <td>75.0</td>\n",
       "      <td>76.0</td>\n",
       "      <td>73.0</td>\n",
       "      <td>79.0</td>\n",
       "      <td>77.0</td>\n",
       "      <td>...</td>\n",
       "      <td>62.0</td>\n",
       "      <td>61.0</td>\n",
       "      <td>67.0</td>\n",
       "      <td>65.0</td>\n",
       "      <td>62.0</td>\n",
       "      <td>58.0</td>\n",
       "      <td>59.0</td>\n",
       "      <td>61.0</td>\n",
       "      <td>63.0</td>\n",
       "      <td>5</td>\n",
       "    </tr>\n",
       "    <tr>\n",
       "      <th>5</th>\n",
       "      <td>141.0</td>\n",
       "      <td>140.0</td>\n",
       "      <td>142.0</td>\n",
       "      <td>145.0</td>\n",
       "      <td>179.0</td>\n",
       "      <td>245.0</td>\n",
       "      <td>255.0</td>\n",
       "      <td>255.0</td>\n",
       "      <td>249.0</td>\n",
       "      <td>196.0</td>\n",
       "      <td>...</td>\n",
       "      <td>71.0</td>\n",
       "      <td>74.0</td>\n",
       "      <td>95.0</td>\n",
       "      <td>100.0</td>\n",
       "      <td>70.0</td>\n",
       "      <td>63.0</td>\n",
       "      <td>117.0</td>\n",
       "      <td>123.0</td>\n",
       "      <td>91.0</td>\n",
       "      <td>5</td>\n",
       "    </tr>\n",
       "    <tr>\n",
       "      <th>6</th>\n",
       "      <td>36.0</td>\n",
       "      <td>39.0</td>\n",
       "      <td>35.0</td>\n",
       "      <td>34.0</td>\n",
       "      <td>34.0</td>\n",
       "      <td>31.0</td>\n",
       "      <td>30.0</td>\n",
       "      <td>34.0</td>\n",
       "      <td>35.0</td>\n",
       "      <td>32.0</td>\n",
       "      <td>...</td>\n",
       "      <td>28.0</td>\n",
       "      <td>26.0</td>\n",
       "      <td>26.0</td>\n",
       "      <td>27.0</td>\n",
       "      <td>27.0</td>\n",
       "      <td>26.0</td>\n",
       "      <td>25.0</td>\n",
       "      <td>24.0</td>\n",
       "      <td>26.0</td>\n",
       "      <td>5</td>\n",
       "    </tr>\n",
       "    <tr>\n",
       "      <th>7</th>\n",
       "      <td>37.0</td>\n",
       "      <td>30.0</td>\n",
       "      <td>32.0</td>\n",
       "      <td>53.0</td>\n",
       "      <td>164.0</td>\n",
       "      <td>203.0</td>\n",
       "      <td>228.0</td>\n",
       "      <td>217.0</td>\n",
       "      <td>148.0</td>\n",
       "      <td>163.0</td>\n",
       "      <td>...</td>\n",
       "      <td>35.0</td>\n",
       "      <td>42.0</td>\n",
       "      <td>36.0</td>\n",
       "      <td>38.0</td>\n",
       "      <td>56.0</td>\n",
       "      <td>84.0</td>\n",
       "      <td>90.0</td>\n",
       "      <td>87.0</td>\n",
       "      <td>73.0</td>\n",
       "      <td>5</td>\n",
       "    </tr>\n",
       "    <tr>\n",
       "      <th>8</th>\n",
       "      <td>133.0</td>\n",
       "      <td>133.0</td>\n",
       "      <td>134.0</td>\n",
       "      <td>132.0</td>\n",
       "      <td>130.0</td>\n",
       "      <td>133.0</td>\n",
       "      <td>135.0</td>\n",
       "      <td>135.0</td>\n",
       "      <td>135.0</td>\n",
       "      <td>136.0</td>\n",
       "      <td>...</td>\n",
       "      <td>52.0</td>\n",
       "      <td>58.0</td>\n",
       "      <td>63.0</td>\n",
       "      <td>67.0</td>\n",
       "      <td>68.0</td>\n",
       "      <td>65.0</td>\n",
       "      <td>65.0</td>\n",
       "      <td>89.0</td>\n",
       "      <td>105.0</td>\n",
       "      <td>5</td>\n",
       "    </tr>\n",
       "    <tr>\n",
       "      <th>9</th>\n",
       "      <td>55.0</td>\n",
       "      <td>47.0</td>\n",
       "      <td>39.0</td>\n",
       "      <td>48.0</td>\n",
       "      <td>47.0</td>\n",
       "      <td>47.0</td>\n",
       "      <td>47.0</td>\n",
       "      <td>48.0</td>\n",
       "      <td>48.0</td>\n",
       "      <td>49.0</td>\n",
       "      <td>...</td>\n",
       "      <td>44.0</td>\n",
       "      <td>43.0</td>\n",
       "      <td>44.0</td>\n",
       "      <td>44.0</td>\n",
       "      <td>41.0</td>\n",
       "      <td>44.0</td>\n",
       "      <td>44.0</td>\n",
       "      <td>42.0</td>\n",
       "      <td>43.0</td>\n",
       "      <td>5</td>\n",
       "    </tr>\n",
       "  </tbody>\n",
       "</table>\n",
       "<p>10 rows × 2305 columns</p>\n",
       "</div>"
      ],
      "text/plain": [
       "       0      1      2      3      4      5      6      7      8      9  ...  \\\n",
       "0  174.0  242.0  214.0  115.0  107.0   91.0   48.0   33.0   47.0  128.0  ...   \n",
       "1   47.0   41.0   28.0   39.0  109.0  226.0  255.0  255.0  255.0  255.0  ...   \n",
       "2   37.0   36.0   37.0   39.0   42.0   41.0   39.0   37.0   36.0   34.0  ...   \n",
       "3   26.0   25.0   26.0   30.0   31.0   30.0   30.0   31.0   33.0   33.0  ...   \n",
       "4   70.0   77.0   72.0   72.0   73.0   75.0   76.0   73.0   79.0   77.0  ...   \n",
       "5  141.0  140.0  142.0  145.0  179.0  245.0  255.0  255.0  249.0  196.0  ...   \n",
       "6   36.0   39.0   35.0   34.0   34.0   31.0   30.0   34.0   35.0   32.0  ...   \n",
       "7   37.0   30.0   32.0   53.0  164.0  203.0  228.0  217.0  148.0  163.0  ...   \n",
       "8  133.0  133.0  134.0  132.0  130.0  133.0  135.0  135.0  135.0  136.0  ...   \n",
       "9   55.0   47.0   39.0   48.0   47.0   47.0   47.0   48.0   48.0   49.0  ...   \n",
       "\n",
       "   2295   2296   2297   2298  2299  2300   2301   2302   2303  class  \n",
       "0  81.0  114.0  106.0   82.0  80.0  78.0   76.0   67.0   83.0      5  \n",
       "1  55.0   48.0   33.0   26.0  29.0  19.0   25.0   33.0   25.0      5  \n",
       "2  68.0   46.0   35.0   31.0  29.0  28.0   35.0   46.0   55.0      5  \n",
       "3  53.0   49.0   50.0   85.0  77.0  72.0   39.0   31.0   33.0      5  \n",
       "4  62.0   61.0   67.0   65.0  62.0  58.0   59.0   61.0   63.0      5  \n",
       "5  71.0   74.0   95.0  100.0  70.0  63.0  117.0  123.0   91.0      5  \n",
       "6  28.0   26.0   26.0   27.0  27.0  26.0   25.0   24.0   26.0      5  \n",
       "7  35.0   42.0   36.0   38.0  56.0  84.0   90.0   87.0   73.0      5  \n",
       "8  52.0   58.0   63.0   67.0  68.0  65.0   65.0   89.0  105.0      5  \n",
       "9  44.0   43.0   44.0   44.0  41.0  44.0   44.0   42.0   43.0      5  \n",
       "\n",
       "[10 rows x 2305 columns]"
      ]
     },
     "execution_count": 21,
     "metadata": {},
     "output_type": "execute_result"
    }
   ],
   "source": [
    "dataset_big.head(10)"
   ]
  },
  {
   "cell_type": "code",
   "execution_count": 22,
   "metadata": {},
   "outputs": [
    {
     "data": {
      "text/plain": [
       "array([[174., 242., 214., ...,  67.,  83.,   5.],\n",
       "       [ 47.,  41.,  28., ...,  33.,  25.,   5.],\n",
       "       [ 37.,  36.,  37., ...,  46.,  55.,   5.],\n",
       "       ...,\n",
       "       [ 52.,  48.,  52., ...,  19.,  19.,   7.],\n",
       "       [109., 103.,  78., ...,  28.,  27.,   7.],\n",
       "       [ 32.,  44.,  51., ...,  18.,  16.,   7.]])"
      ]
     },
     "execution_count": 22,
     "metadata": {},
     "output_type": "execute_result"
    }
   ],
   "source": [
    "dataset_big.values # with .values we are taking the dataframe as an array"
   ]
  },
  {
   "cell_type": "code",
   "execution_count": 23,
   "metadata": {},
   "outputs": [],
   "source": [
    "X = dataset_big.iloc[:,:-1].values #we drop the last value which is the class to create a features dataframe\n",
    "y = dataset_big.iloc[:,2304].values #we keep only the last value to create a class dataframe"
   ]
  },
  {
   "cell_type": "code",
   "execution_count": 24,
   "metadata": {},
   "outputs": [],
   "source": [
    "min_max = MinMaxScaler() #initialize min_max as a MinMaxScaler()\n",
    "X_scaled = min_max.fit_transform(X) #we perform a min-max scale to features in order to have values from 0 to 1"
   ]
  },
  {
   "cell_type": "code",
   "execution_count": 25,
   "metadata": {},
   "outputs": [
    {
     "data": {
      "text/plain": [
       "array([[0.676     , 0.94779116, 0.836     , ..., 0.2811245 , 0.24193548,\n",
       "        0.30923695],\n",
       "       [0.168     , 0.14056225, 0.092     , ..., 0.07630522, 0.10483871,\n",
       "        0.07630522],\n",
       "       [0.128     , 0.12048193, 0.128     , ..., 0.11646586, 0.15725806,\n",
       "        0.19678715],\n",
       "       ...,\n",
       "       [0.188     , 0.1686747 , 0.188     , ..., 0.08032129, 0.0483871 ,\n",
       "        0.05220884],\n",
       "       [0.416     , 0.38955823, 0.292     , ..., 0.08032129, 0.08467742,\n",
       "        0.08433735],\n",
       "       [0.108     , 0.15261044, 0.184     , ..., 0.0562249 , 0.04435484,\n",
       "        0.04016064]])"
      ]
     },
     "execution_count": 25,
     "metadata": {},
     "output_type": "execute_result"
    }
   ],
   "source": [
    "X_scaled # the values after the transformation"
   ]
  },
  {
   "cell_type": "code",
   "execution_count": 26,
   "metadata": {},
   "outputs": [],
   "source": [
    "#we split the sample to train and test with an 80-20 analogy\n",
    "X_train, X_test, y_train, y_test = train_test_split(X_scaled, y, test_size=0.2, stratify=y) "
   ]
  },
  {
   "cell_type": "code",
   "execution_count": 27,
   "metadata": {},
   "outputs": [
    {
     "data": {
      "image/png": "[encoded data removed]",
      "text/plain": [
       "<Figure size 432x288 with 1 Axes>"
      ]
     },
     "metadata": {
      "needs_background": "light"
     },
     "output_type": "display_data"
    }
   ],
   "source": [
    "#ploting histograms to see if the data follows normal distibution\n",
    "plt.hist(X_scaled[50])\n",
    "plt.show()"
   ]
  },
  {
   "cell_type": "code",
   "execution_count": 28,
   "metadata": {},
   "outputs": [],
   "source": [
    "#we also tried the GaussianNB to see its results even though we knew that the MultinominalNB fits our model best\n",
    "classifier_ga = GaussianNB() #initialize classifier_ga as a GaussianNB()\n",
    "classifier_ml = MultinomialNB() #initialize classifier_ml as a MultinomialNB()\n",
    "#train the model with classifier_ga\n",
    "classifier_ga.fit(X_train,y_train)\n",
    "#test the model with classifier_ga\n",
    "y_pred_ga = classifier_ga.predict(X_test)\n",
    "cm = confusion_matrix(y_test,y_pred_ga)"
   ]
  },
  {
   "cell_type": "code",
   "execution_count": 29,
   "metadata": {},
   "outputs": [
    {
     "data": {
      "text/plain": [
       "array([[ 5,  3, 29,  0,  0,  1,  6,  3,  0,  1],\n",
       "       [ 8,  4, 26,  0,  0,  2,  2,  3,  0,  3],\n",
       "       [ 1,  1, 40,  0,  0,  0,  0,  6,  0,  0],\n",
       "       [ 3, 10,  7, 19,  1,  0,  0,  7,  1,  0],\n",
       "       [ 1,  4, 15,  1, 10,  5,  3,  7,  0,  2],\n",
       "       [ 0,  2,  9,  0,  4, 27,  1,  3,  0,  2],\n",
       "       [ 2, 11,  1,  1,  0,  1, 28,  0,  2,  2],\n",
       "       [ 3,  0, 11,  1,  0,  0,  6, 27,  0,  0],\n",
       "       [ 3,  4, 17,  0,  2,  3,  8,  0,  6,  5],\n",
       "       [ 0, 15,  9,  0,  0,  0,  5,  6,  0, 13]], dtype=int64)"
      ]
     },
     "execution_count": 29,
     "metadata": {},
     "output_type": "execute_result"
    }
   ],
   "source": [
    "cm #confusion matrix "
   ]
  },
  {
   "cell_type": "code",
   "execution_count": 30,
   "metadata": {},
   "outputs": [
    {
     "data": {
      "image/png": "[encoded data removed]",
      "text/plain": [
       "<Figure size 360x360 with 1 Axes>"
      ]
     },
     "metadata": {
      "needs_background": "light"
     },
     "output_type": "display_data"
    }
   ],
   "source": [
    "#we transform the confusion matrix to a heatmap\n",
    "fig, ax = plt.subplots(figsize=(5,5))\n",
    "ax = sns.heatmap(cm,annot=True,cmap=\"RdPu\",fmt=\".0f\",cbar=False)\n",
    "plt.show()"
   ]
  },
  {
   "cell_type": "code",
   "execution_count": 31,
   "metadata": {},
   "outputs": [
    {
     "name": "stdout",
     "output_type": "stream",
     "text": [
      "              precision    recall  f1-score   support\n",
      "\n",
      "           0       0.19      0.10      0.14        48\n",
      "           1       0.07      0.08      0.08        48\n",
      "           2       0.24      0.83      0.38        48\n",
      "           3       0.86      0.40      0.54        48\n",
      "           4       0.59      0.21      0.31        48\n",
      "           5       0.69      0.56      0.62        48\n",
      "           6       0.47      0.58      0.52        48\n",
      "           7       0.44      0.56      0.49        48\n",
      "           8       0.67      0.12      0.21        48\n",
      "           9       0.46      0.27      0.34        48\n",
      "\n",
      "    accuracy                           0.37       480\n",
      "   macro avg       0.47      0.37      0.36       480\n",
      "weighted avg       0.47      0.37      0.36       480\n",
      "\n"
     ]
    }
   ],
   "source": [
    "#classidication report\n",
    "print(classification_report(y_test,y_pred_ga))"
   ]
  },
  {
   "cell_type": "code",
   "execution_count": 32,
   "metadata": {},
   "outputs": [],
   "source": [
    "# ten fold cross validation\n",
    "# scoring='precision' , scoring='recall' , scoring='f1'\n",
    "accuracy = cross_val_score(estimator = classifier_ga, X = X_scaled, y = y, cv =10)"
   ]
  },
  {
   "cell_type": "code",
   "execution_count": 33,
   "metadata": {},
   "outputs": [
    {
     "data": {
      "text/plain": [
       "0.3720833333333333"
      ]
     },
     "execution_count": 33,
     "metadata": {},
     "output_type": "execute_result"
    }
   ],
   "source": [
    "#accuracy.mean after running the model for 10 times \n",
    "accuracy.mean()"
   ]
  },
  {
   "cell_type": "code",
   "execution_count": 34,
   "metadata": {
    "scrolled": true
   },
   "outputs": [
    {
     "data": {
      "image/png": "[encoded data removed]",
      "text/plain": [
       "<Figure size 360x360 with 1 Axes>"
      ]
     },
     "metadata": {
      "needs_background": "light"
     },
     "output_type": "display_data"
    }
   ],
   "source": [
    "#train the model with classifier_ml\n",
    "classifier_ml.fit(X_train,y_train)\n",
    "#test the model with classifier_ml\n",
    "y_pred_ml = classifier_ml.predict(X_test)\n",
    "cm_ml = confusion_matrix(y_test,y_pred_ml)\n",
    "\n",
    "#we transform the confusion matrix to a heatmap\n",
    "fig, ax = plt.subplots(figsize=(5,5))\n",
    "ax = sns.heatmap(cm_ml,annot=True,cmap=\"RdPu\",fmt=\".0f\",cbar=False)\n",
    "plt.show()"
   ]
  },
  {
   "cell_type": "code",
   "execution_count": 35,
   "metadata": {
    "scrolled": true
   },
   "outputs": [
    {
     "name": "stdout",
     "output_type": "stream",
     "text": [
      "              precision    recall  f1-score   support\n",
      "\n",
      "           0       0.19      0.31      0.24        48\n",
      "           1       0.30      0.17      0.21        48\n",
      "           2       0.79      0.65      0.71        48\n",
      "           3       0.97      0.73      0.83        48\n",
      "           4       0.46      0.23      0.31        48\n",
      "           5       0.90      0.54      0.68        48\n",
      "           6       0.65      0.65      0.65        48\n",
      "           7       0.31      0.58      0.41        48\n",
      "           8       0.52      0.58      0.55        48\n",
      "           9       0.57      0.67      0.62        48\n",
      "\n",
      "    accuracy                           0.51       480\n",
      "   macro avg       0.57      0.51      0.52       480\n",
      "weighted avg       0.57      0.51      0.52       480\n",
      "\n"
     ]
    }
   ],
   "source": [
    "#classidication report\n",
    "print(classification_report(y_test,y_pred_ml))"
   ]
  },
  {
   "cell_type": "code",
   "execution_count": 36,
   "metadata": {},
   "outputs": [],
   "source": [
    "# ten fold cross validation\n",
    "# scoring='precision' , scoring='recall' , scoring='f1'\n",
    "accuracy = cross_val_score(estimator = classifier_ml, X = X_scaled, y = y, cv =10)"
   ]
  },
  {
   "cell_type": "code",
   "execution_count": 37,
   "metadata": {},
   "outputs": [
    {
     "data": {
      "text/plain": [
       "0.5175000000000001"
      ]
     },
     "execution_count": 37,
     "metadata": {},
     "output_type": "execute_result"
    }
   ],
   "source": [
    "#accuracy.mean after running the model for 10 times \n",
    "accuracy.mean()"
   ]
  },
  {
   "cell_type": "code",
   "execution_count": 38,
   "metadata": {},
   "outputs": [],
   "source": [
    "#taking the best k features of each class and add them in columns which is an array of arrays\n",
    "best = [2, 5 ,10]\n",
    "columns = []\n",
    "cols =[]\n",
    "\n",
    "#all the images that belong to the class that we want to take its k-best features are in class0 and all the other images are in class1\n",
    "for x in range (0,10):\n",
    "    file_name = \"y_train_smpl_\" + str(x) + \".csv\" #find the name of each class' binary csv\n",
    "    df_class = pd.read_csv(file_name) #read each class' binary csv as dataframe\n",
    "    df_class.columns = ['class'] #rename the header of each class' binary csv as 'class'\n",
    "    df_concatBinary = pd.concat([df_features,df_class],axis=1) #concatinate the features dataframe with the class' binary dataframe \n",
    "    class_ = len(df_concat[df_concat['class']==0]) #set the length of the sample we're taking to the number of instances in that class \n",
    "    index_class_non = df_concatBinary[df_concatBinary['class']==1].index #take all the images from class1\n",
    "    random_class_non_indices = np.random.choice(index_class_non, class_, replace=False) #take a random sample of indices from class1 images equal to class0 length\n",
    "    indices_class = df_concatBinary[df_concatBinary['class']==0].index #take class0 indices\n",
    "    indices_combined_class = np.concatenate([indices_class, random_class_non_indices]) #create an array with equal indices from class0 & class1\n",
    "    df_balanced_class = df_concatBinary.loc[indices_combined_class] #take a dataframe with only these indices\n",
    "    df_balanced_class.reset_index(inplace = True) #reset indices \n",
    "    dataset_class = df_balanced_class.drop(['index'],axis=1) #drop the index column from the new dataframe\n",
    "                                                                       \n",
    "    dataset_class = dataset_class.sample(frac=1).reset_index(drop=True) #this randomises the dataframe\n",
    "                                                \n",
    "    \n",
    "    #select k best features\n",
    "    X = dataset_class.iloc[:,:-1] #we drop the last value which is the class to create a features dataframe\n",
    "    y = dataset_class.iloc[:,2304] #we keep only the last value to create a class dataframe\n",
    "\n",
    "\n",
    "    for value in best:\n",
    "        selector = SelectKBest(f_regression, k=value) #initialize selector as SelectKBest() with the f_regression\n",
    "        selector.fit(X,y) #use the selector in our model\n",
    "        cols_int = selector.get_support(indices=True) #take an array of headers fot the k-best features as integers\n",
    "        cols_str = list(map(str,cols_int)) #transform integers to strings\n",
    "        columns.append(cols_str) #add the headers in an array of arrays\n"
   ]
  },
  {
   "cell_type": "code",
   "execution_count": 39,
   "metadata": {
    "scrolled": true
   },
   "outputs": [
    {
     "data": {
      "text/plain": [
       "[['1171', '1172'],\n",
       " ['1171', '1172', '1220', '1468', '1472'],\n",
       " ['1123',\n",
       "  '1171',\n",
       "  '1172',\n",
       "  '1220',\n",
       "  '1221',\n",
       "  '1468',\n",
       "  '1469',\n",
       "  '1472',\n",
       "  '1518',\n",
       "  '1519'],\n",
       " ['1046', '1094'],\n",
       " ['998', '1046', '1094', '1142', '1714'],\n",
       " ['997',\n",
       "  '998',\n",
       "  '1046',\n",
       "  '1094',\n",
       "  '1142',\n",
       "  '1143',\n",
       "  '1172',\n",
       "  '1190',\n",
       "  '1714',\n",
       "  '1761'],\n",
       " ['1083', '1084'],\n",
       " ['1036', '1083', '1084', '1131', '1132'],\n",
       " ['1035',\n",
       "  '1036',\n",
       "  '1081',\n",
       "  '1082',\n",
       "  '1083',\n",
       "  '1084',\n",
       "  '1130',\n",
       "  '1131',\n",
       "  '1132',\n",
       "  '1179'],\n",
       " ['1272', '1649'],\n",
       " ['1272', '1369', '1417', '1649', '1696'],\n",
       " ['1224',\n",
       "  '1272',\n",
       "  '1320',\n",
       "  '1321',\n",
       "  '1369',\n",
       "  '1417',\n",
       "  '1648',\n",
       "  '1649',\n",
       "  '1696',\n",
       "  '1697'],\n",
       " ['1848', '1849'],\n",
       " ['1237', '1801', '1848', '1849', '1850'],\n",
       " ['1043',\n",
       "  '1237',\n",
       "  '1285',\n",
       "  '1800',\n",
       "  '1801',\n",
       "  '1802',\n",
       "  '1848',\n",
       "  '1849',\n",
       "  '1850',\n",
       "  '1897'],\n",
       " ['1319', '1367'],\n",
       " ['1270', '1271', '1319', '1367', '1368'],\n",
       " ['1222',\n",
       "  '1270',\n",
       "  '1271',\n",
       "  '1318',\n",
       "  '1319',\n",
       "  '1320',\n",
       "  '1367',\n",
       "  '1368',\n",
       "  '1415',\n",
       "  '1416'],\n",
       " ['1186', '1738'],\n",
       " ['1186', '1689', '1738', '1786', '1787'],\n",
       " ['1138',\n",
       "  '1185',\n",
       "  '1186',\n",
       "  '1689',\n",
       "  '1737',\n",
       "  '1738',\n",
       "  '1786',\n",
       "  '1787',\n",
       "  '1885',\n",
       "  '1934'],\n",
       " ['1120', '1168'],\n",
       " ['1119', '1120', '1121', '1168', '1169'],\n",
       " ['1071',\n",
       "  '1072',\n",
       "  '1119',\n",
       "  '1120',\n",
       "  '1121',\n",
       "  '1167',\n",
       "  '1168',\n",
       "  '1169',\n",
       "  '1216',\n",
       "  '1217'],\n",
       " ['1280', '1328'],\n",
       " ['1232', '1280', '1328', '1375', '1470'],\n",
       " ['1232',\n",
       "  '1280',\n",
       "  '1328',\n",
       "  '1375',\n",
       "  '1376',\n",
       "  '1423',\n",
       "  '1469',\n",
       "  '1470',\n",
       "  '1471',\n",
       "  '1518'],\n",
       " ['1362', '1364'],\n",
       " ['1362', '1363', '1364', '1410', '1411'],\n",
       " ['1317',\n",
       "  '1318',\n",
       "  '1362',\n",
       "  '1363',\n",
       "  '1364',\n",
       "  '1365',\n",
       "  '1410',\n",
       "  '1411',\n",
       "  '1412',\n",
       "  '1413']]"
      ]
     },
     "execution_count": 39,
     "metadata": {},
     "output_type": "execute_result"
    }
   ],
   "source": [
    "top2 = []\n",
    "top5 = []\n",
    "top10 = []\n",
    "\n",
    "for x in range(0,30): #place the header arrays into individual dataframes to allow analysis\n",
    "    if x%3 == 0:\n",
    "        top2.append(columns[x])    \n",
    "    elif x%3 == 1:\n",
    "        top5.append(columns[x])\n",
    "    else:\n",
    "        top10.append(columns[x])\n",
    "\n",
    "columns"
   ]
  },
  {
   "cell_type": "code",
   "execution_count": 40,
   "metadata": {
    "scrolled": true
   },
   "outputs": [
    {
     "data": {
      "text/plain": [
       "[['1171', '1172', '1220', '1468', '1472'],\n",
       " ['998', '1046', '1094', '1142', '1714'],\n",
       " ['1036', '1083', '1084', '1131', '1132'],\n",
       " ['1272', '1369', '1417', '1649', '1696'],\n",
       " ['1237', '1801', '1848', '1849', '1850'],\n",
       " ['1270', '1271', '1319', '1367', '1368'],\n",
       " ['1186', '1689', '1738', '1786', '1787'],\n",
       " ['1119', '1120', '1121', '1168', '1169'],\n",
       " ['1232', '1280', '1328', '1375', '1470'],\n",
       " ['1362', '1363', '1364', '1410', '1411']]"
      ]
     },
     "execution_count": 40,
     "metadata": {},
     "output_type": "execute_result"
    }
   ],
   "source": [
    "top5"
   ]
  },
  {
   "cell_type": "code",
   "execution_count": 41,
   "metadata": {
    "scrolled": true
   },
   "outputs": [
    {
     "data": {
      "text/plain": [
       "[['1123',\n",
       "  '1171',\n",
       "  '1172',\n",
       "  '1220',\n",
       "  '1221',\n",
       "  '1468',\n",
       "  '1469',\n",
       "  '1472',\n",
       "  '1518',\n",
       "  '1519'],\n",
       " ['997',\n",
       "  '998',\n",
       "  '1046',\n",
       "  '1094',\n",
       "  '1142',\n",
       "  '1143',\n",
       "  '1172',\n",
       "  '1190',\n",
       "  '1714',\n",
       "  '1761'],\n",
       " ['1035',\n",
       "  '1036',\n",
       "  '1081',\n",
       "  '1082',\n",
       "  '1083',\n",
       "  '1084',\n",
       "  '1130',\n",
       "  '1131',\n",
       "  '1132',\n",
       "  '1179'],\n",
       " ['1224',\n",
       "  '1272',\n",
       "  '1320',\n",
       "  '1321',\n",
       "  '1369',\n",
       "  '1417',\n",
       "  '1648',\n",
       "  '1649',\n",
       "  '1696',\n",
       "  '1697'],\n",
       " ['1043',\n",
       "  '1237',\n",
       "  '1285',\n",
       "  '1800',\n",
       "  '1801',\n",
       "  '1802',\n",
       "  '1848',\n",
       "  '1849',\n",
       "  '1850',\n",
       "  '1897'],\n",
       " ['1222',\n",
       "  '1270',\n",
       "  '1271',\n",
       "  '1318',\n",
       "  '1319',\n",
       "  '1320',\n",
       "  '1367',\n",
       "  '1368',\n",
       "  '1415',\n",
       "  '1416'],\n",
       " ['1138',\n",
       "  '1185',\n",
       "  '1186',\n",
       "  '1689',\n",
       "  '1737',\n",
       "  '1738',\n",
       "  '1786',\n",
       "  '1787',\n",
       "  '1885',\n",
       "  '1934'],\n",
       " ['1071',\n",
       "  '1072',\n",
       "  '1119',\n",
       "  '1120',\n",
       "  '1121',\n",
       "  '1167',\n",
       "  '1168',\n",
       "  '1169',\n",
       "  '1216',\n",
       "  '1217'],\n",
       " ['1232',\n",
       "  '1280',\n",
       "  '1328',\n",
       "  '1375',\n",
       "  '1376',\n",
       "  '1423',\n",
       "  '1469',\n",
       "  '1470',\n",
       "  '1471',\n",
       "  '1518'],\n",
       " ['1317',\n",
       "  '1318',\n",
       "  '1362',\n",
       "  '1363',\n",
       "  '1364',\n",
       "  '1365',\n",
       "  '1410',\n",
       "  '1411',\n",
       "  '1412',\n",
       "  '1413']]"
      ]
     },
     "execution_count": 41,
     "metadata": {},
     "output_type": "execute_result"
    }
   ],
   "source": [
    "top10"
   ]
  },
  {
   "cell_type": "code",
   "execution_count": 42,
   "metadata": {
    "scrolled": true
   },
   "outputs": [
    {
     "data": {
      "image/png": "[encoded data removed]",
      "text/plain": [
       "<Figure size 360x360 with 1 Axes>"
      ]
     },
     "metadata": {
      "needs_background": "light"
     },
     "output_type": "display_data"
    }
   ],
   "source": [
    "\n",
    "\n",
    "A = dataset_big #take the original FULL dataframe\n",
    "top2X = pd.DataFrame() #create an empty dataframe for storing the top 2 correlated pixels\n",
    "top5X = pd.DataFrame() #create an empty dataframe for storing the top 5 correlated pixels\n",
    "top10X = pd.DataFrame() #create an empty dataframe for storing the top 10 correlated pixels\n",
    "\n",
    "for val in top2:   #take array for each class containing two pixel labels\n",
    "    for x in val:       #take the 2 ints from each val array\n",
    "        column = A[str(x)]    # find the column of values corresponding to that pixel\n",
    "        top2X[str(x)] = column    # add that column to the new dataframe with the same label\n",
    "top2X['class'] = A.iloc[:,2304].values    #adding the class colum to the completed dataframe\n",
    "\n",
    "for val in top5:   #take array for each class containing two pixel labels\n",
    "    for x in val:       #take the 2 ints from each val array\n",
    "        column = A[str(x)]    # find the column of values corresponding to that pixel\n",
    "        top5X[str(x)] = column    # add that column to the new dataframe with the same label\n",
    "top5X['class'] = A.iloc[:,2304].values    #adding the class colum to the completed dataframe\n",
    "\n",
    "for val in top10:   #take array for each class containing two pixel labels\n",
    "    for x in val:       #take the 2 ints from each val array\n",
    "        column = A[str(x)]    # find the column of values corresponding to that pixel\n",
    "        top10X[str(x)] = column    # add that column to the new dataframe with the same label\n",
    "top10X['class'] = A.iloc[:,2304].values    #adding the class colum to the completed dataframe\n",
    "\n",
    "X2 = top2X.iloc[:,:-1].values     #we drop the last value which is the class to create a features dataframe\n",
    "Y2 = top2X.iloc[:,20].values    #we keep only the last value to create a class dataframe\n",
    "X_train, X_test, y_train, y_test = train_test_split(X2, Y2, test_size=0.2, stratify=Y2) #creating testing and training sets\n",
    "\n",
    "#train the model with classifier_ml\n",
    "classifier_ml.fit(X_train,y_train)\n",
    "#test the model with classifier_ml\n",
    "y_pred_ml = classifier_ml.predict(X_test)\n",
    "cm_ml = confusion_matrix(y_test,y_pred_ml)\n",
    "\n",
    "#we transform the confusion matrix to a heatmap\n",
    "fig, ax = plt.subplots(figsize=(5,5))\n",
    "ax = sns.heatmap(cm_ml,annot=True,cmap=\"RdPu\",fmt=\".0f\",cbar=False)\n",
    "plt.show()\n"
   ]
  },
  {
   "cell_type": "code",
   "execution_count": 43,
   "metadata": {},
   "outputs": [
    {
     "name": "stdout",
     "output_type": "stream",
     "text": [
      "              precision    recall  f1-score   support\n",
      "\n",
      "           0       0.43      0.27      0.33        48\n",
      "           1       0.46      0.54      0.50        48\n",
      "           2       0.60      0.56      0.58        48\n",
      "           3       1.00      0.75      0.86        48\n",
      "           4       0.64      0.67      0.65        48\n",
      "           5       0.93      0.83      0.88        48\n",
      "           6       0.71      0.73      0.72        48\n",
      "           7       0.60      0.69      0.64        48\n",
      "           8       0.73      0.92      0.81        48\n",
      "           9       0.82      0.94      0.87        48\n",
      "\n",
      "    accuracy                           0.69       480\n",
      "   macro avg       0.69      0.69      0.68       480\n",
      "weighted avg       0.69      0.69      0.68       480\n",
      "\n"
     ]
    }
   ],
   "source": [
    "print(classification_report(y_test,y_pred_ml))"
   ]
  },
  {
   "cell_type": "code",
   "execution_count": 44,
   "metadata": {},
   "outputs": [
    {
     "data": {
      "image/png": "[encoded data removed]",
      "text/plain": [
       "<Figure size 360x360 with 1 Axes>"
      ]
     },
     "metadata": {
      "needs_background": "light"
     },
     "output_type": "display_data"
    }
   ],
   "source": [
    "X5 = top5X.iloc[:,:-1].values     #we drop the last value which is the class to create a features dataframe\n",
    "Y5 = top5X.iloc[:,50].values    #we keep only the last value to create a class dataframe\n",
    "X_train, X_test, y_train, y_test = train_test_split(X5, Y5, test_size=0.2, stratify=Y2) #creating testing and training sets\n",
    "\n",
    "#train the model with classifier_ml\n",
    "classifier_ml.fit(X_train,y_train)\n",
    "#test the model with classifier_ml\n",
    "y_pred_ml = classifier_ml.predict(X_test)\n",
    "cm_ml = confusion_matrix(y_test,y_pred_ml)\n",
    "\n",
    "#we transform the confusion matrix to a heatmap\n",
    "fig, ax = plt.subplots(figsize=(5,5))\n",
    "ax = sns.heatmap(cm_ml,annot=True,cmap=\"RdPu\",fmt=\".0f\",cbar=False)\n",
    "plt.show()"
   ]
  },
  {
   "cell_type": "code",
   "execution_count": 45,
   "metadata": {},
   "outputs": [
    {
     "name": "stdout",
     "output_type": "stream",
     "text": [
      "              precision    recall  f1-score   support\n",
      "\n",
      "           0       0.35      0.25      0.29        48\n",
      "           1       0.41      0.54      0.47        48\n",
      "           2       0.79      0.85      0.82        48\n",
      "           3       1.00      0.73      0.84        48\n",
      "           4       0.66      0.83      0.73        48\n",
      "           5       0.98      0.83      0.90        48\n",
      "           6       0.69      0.77      0.73        48\n",
      "           7       0.81      0.60      0.69        48\n",
      "           8       0.85      0.92      0.88        48\n",
      "           9       0.90      0.98      0.94        48\n",
      "\n",
      "    accuracy                           0.73       480\n",
      "   macro avg       0.74      0.73      0.73       480\n",
      "weighted avg       0.74      0.73      0.73       480\n",
      "\n"
     ]
    }
   ],
   "source": [
    "print(classification_report(y_test,y_pred_ml))\n"
   ]
  },
  {
   "cell_type": "code",
   "execution_count": 46,
   "metadata": {},
   "outputs": [
    {
     "data": {
      "image/png": "[encoded data removed]",
      "text/plain": [
       "<Figure size 360x360 with 1 Axes>"
      ]
     },
     "metadata": {
      "needs_background": "light"
     },
     "output_type": "display_data"
    }
   ],
   "source": [
    "X10 = top10X.iloc[:,:-1].values     #we drop the last value which is the class to create a features dataframe\n",
    "Y10 = top10X.iloc[:,95].values    #we keep only the last value to create a class dataframe\n",
    "X_train, X_test, y_train, y_test = train_test_split(X10, Y10, test_size=0.2, stratify=Y2) #creating testing and training sets\n",
    "\n",
    "#train the model with classifier_ml\n",
    "classifier_ml.fit(X_train,y_train)\n",
    "#test the model with classifier_ml\n",
    "y_pred_ml = classifier_ml.predict(X_test)\n",
    "cm_ml = confusion_matrix(y_test,y_pred_ml)\n",
    "\n",
    "#we transform the confusion matrix to a heatmap\n",
    "fig, ax = plt.subplots(figsize=(5,5))\n",
    "ax = sns.heatmap(cm_ml,annot=True,cmap=\"RdPu\",fmt=\".0f\",cbar=False)\n",
    "plt.show()"
   ]
  },
  {
   "cell_type": "code",
   "execution_count": 47,
   "metadata": {},
   "outputs": [
    {
     "name": "stdout",
     "output_type": "stream",
     "text": [
      "              precision    recall  f1-score   support\n",
      "\n",
      "           0       0.38      0.38      0.38        48\n",
      "           1       0.45      0.67      0.54        48\n",
      "           2       0.76      0.73      0.74        48\n",
      "           3       1.00      0.77      0.87        48\n",
      "           4       0.63      0.60      0.62        48\n",
      "           5       0.98      0.83      0.90        48\n",
      "           6       0.75      0.79      0.77        48\n",
      "           7       0.68      0.62      0.65        48\n",
      "           8       0.98      0.94      0.96        48\n",
      "           9       0.90      0.96      0.93        48\n",
      "\n",
      "    accuracy                           0.73       480\n",
      "   macro avg       0.75      0.73      0.74       480\n",
      "weighted avg       0.75      0.73      0.74       480\n",
      "\n"
     ]
    }
   ],
   "source": [
    "print(classification_report(y_test,y_pred_ml))"
   ]
  }
 ],
 "metadata": {
  "kernelspec": {
   "display_name": "Python 3",
   "language": "python",
   "name": "python3"
  },
  "language_info": {
   "codemirror_mode": {
    "name": "ipython",
    "version": 3
   },
   "file_extension": ".py",
   "mimetype": "text/x-python",
   "name": "python",
   "nbconvert_exporter": "python",
   "pygments_lexer": "ipython3",
   "version": "3.7.3"
  }
 },
 "nbformat": 4,
 "nbformat_minor": 4
}
